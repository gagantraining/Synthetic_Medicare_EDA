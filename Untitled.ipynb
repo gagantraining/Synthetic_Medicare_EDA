{
 "cells": [
  {
   "cell_type": "code",
   "execution_count": 1,
   "id": "06ea3f91",
   "metadata": {},
   "outputs": [],
   "source": [
    "import pandas as pd"
   ]
  },
  {
   "cell_type": "code",
   "execution_count": 2,
   "id": "00e1839b",
   "metadata": {},
   "outputs": [],
   "source": [
    "dataset = pd.read_json('dataset_json_extracted/Aaron697_Shields502_c3df3ac0-d8a2-4e2c-9673-43f123441901.json')"
   ]
  },
  {
   "cell_type": "code",
   "execution_count": 3,
   "id": "1e9c100a",
   "metadata": {},
   "outputs": [
    {
     "data": {
      "text/html": [
       "<div>\n",
       "<style scoped>\n",
       "    .dataframe tbody tr th:only-of-type {\n",
       "        vertical-align: middle;\n",
       "    }\n",
       "\n",
       "    .dataframe tbody tr th {\n",
       "        vertical-align: top;\n",
       "    }\n",
       "\n",
       "    .dataframe thead th {\n",
       "        text-align: right;\n",
       "    }\n",
       "</style>\n",
       "<table border=\"1\" class=\"dataframe\">\n",
       "  <thead>\n",
       "    <tr style=\"text-align: right;\">\n",
       "      <th></th>\n",
       "      <th>resourceType</th>\n",
       "      <th>type</th>\n",
       "      <th>entry</th>\n",
       "    </tr>\n",
       "  </thead>\n",
       "  <tbody>\n",
       "    <tr>\n",
       "      <th>0</th>\n",
       "      <td>Bundle</td>\n",
       "      <td>transaction</td>\n",
       "      <td>{'fullUrl': 'urn:uuid:4cb1a87c-6993-415f-aa95-...</td>\n",
       "    </tr>\n",
       "    <tr>\n",
       "      <th>1</th>\n",
       "      <td>Bundle</td>\n",
       "      <td>transaction</td>\n",
       "      <td>{'fullUrl': 'urn:uuid:eb3fc847-d368-3798-8ca0-...</td>\n",
       "    </tr>\n",
       "    <tr>\n",
       "      <th>2</th>\n",
       "      <td>Bundle</td>\n",
       "      <td>transaction</td>\n",
       "      <td>{'fullUrl': 'urn:uuid:0000016d-10a6-0f09-0000-...</td>\n",
       "    </tr>\n",
       "    <tr>\n",
       "      <th>3</th>\n",
       "      <td>Bundle</td>\n",
       "      <td>transaction</td>\n",
       "      <td>{'fullUrl': 'urn:uuid:9363553f-f9d8-4ecc-a1c6-...</td>\n",
       "    </tr>\n",
       "    <tr>\n",
       "      <th>4</th>\n",
       "      <td>Bundle</td>\n",
       "      <td>transaction</td>\n",
       "      <td>{'fullUrl': 'urn:uuid:1946f7c7-cdb2-453c-b0d4-...</td>\n",
       "    </tr>\n",
       "  </tbody>\n",
       "</table>\n",
       "</div>"
      ],
      "text/plain": [
       "  resourceType         type                                              entry\n",
       "0       Bundle  transaction  {'fullUrl': 'urn:uuid:4cb1a87c-6993-415f-aa95-...\n",
       "1       Bundle  transaction  {'fullUrl': 'urn:uuid:eb3fc847-d368-3798-8ca0-...\n",
       "2       Bundle  transaction  {'fullUrl': 'urn:uuid:0000016d-10a6-0f09-0000-...\n",
       "3       Bundle  transaction  {'fullUrl': 'urn:uuid:9363553f-f9d8-4ecc-a1c6-...\n",
       "4       Bundle  transaction  {'fullUrl': 'urn:uuid:1946f7c7-cdb2-453c-b0d4-..."
      ]
     },
     "execution_count": 3,
     "metadata": {},
     "output_type": "execute_result"
    }
   ],
   "source": [
    "dataset.head()"
   ]
  },
  {
   "cell_type": "code",
   "execution_count": 4,
   "id": "8f8ede71",
   "metadata": {
    "scrolled": true
   },
   "outputs": [
    {
     "data": {
      "text/plain": [
       "0       {'fullUrl': 'urn:uuid:4cb1a87c-6993-415f-aa95-...\n",
       "1       {'fullUrl': 'urn:uuid:eb3fc847-d368-3798-8ca0-...\n",
       "2       {'fullUrl': 'urn:uuid:0000016d-10a6-0f09-0000-...\n",
       "3       {'fullUrl': 'urn:uuid:9363553f-f9d8-4ecc-a1c6-...\n",
       "4       {'fullUrl': 'urn:uuid:1946f7c7-cdb2-453c-b0d4-...\n",
       "                              ...                        \n",
       "2305    {'fullUrl': 'urn:uuid:17262057-a67f-4250-b4a8-...\n",
       "2306    {'fullUrl': 'urn:uuid:02e08b66-ec0e-48ec-9442-...\n",
       "2307    {'fullUrl': 'urn:uuid:abc55350-5b94-47be-ada6-...\n",
       "2308    {'fullUrl': 'urn:uuid:a29aa6ac-cb2c-4094-b322-...\n",
       "2309    {'fullUrl': 'urn:uuid:7d4ec23c-8fed-4b75-89a1-...\n",
       "Name: entry, Length: 2310, dtype: object"
      ]
     },
     "execution_count": 4,
     "metadata": {},
     "output_type": "execute_result"
    }
   ],
   "source": [
    "dataset.entry"
   ]
  },
  {
   "cell_type": "code",
   "execution_count": 5,
   "id": "1a165153",
   "metadata": {},
   "outputs": [],
   "source": [
    "import json\n",
    "import os"
   ]
  },
  {
   "cell_type": "code",
   "execution_count": 6,
   "id": "8dd5c8ec",
   "metadata": {},
   "outputs": [],
   "source": [
    "all_files = os.listdir('dataset_json_extracted/')\n",
    "x = 10\n",
    "#x = len(all_files)"
   ]
  },
  {
   "cell_type": "code",
   "execution_count": 7,
   "id": "5b8f9f0a",
   "metadata": {},
   "outputs": [],
   "source": [
    "for i in range(x):\n",
    "    with open('dataset_json_extracted/'+all_files[i],'r') as f:\n",
    "        data = json.loads(f.read())\n",
    "    norm_data = pd.json_normalize(data,record_path = ['entry'])\n",
    "    norm_data.to_csv('dataset_csv_formed/'+all_files[i].split('.')[0]+'.csv',index = False)"
   ]
  },
  {
   "cell_type": "code",
   "execution_count": null,
   "id": "7ac5026d",
   "metadata": {},
   "outputs": [],
   "source": []
  }
 ],
 "metadata": {
  "kernelspec": {
   "display_name": "Python 3",
   "language": "python",
   "name": "python3"
  },
  "language_info": {
   "codemirror_mode": {
    "name": "ipython",
    "version": 3
   },
   "file_extension": ".py",
   "mimetype": "text/x-python",
   "name": "python",
   "nbconvert_exporter": "python",
   "pygments_lexer": "ipython3",
   "version": "3.8.8"
  }
 },
 "nbformat": 4,
 "nbformat_minor": 5
}
